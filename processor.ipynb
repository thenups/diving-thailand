{
 "cells": [
  {
   "cell_type": "code",
   "execution_count": 1,
   "metadata": {},
   "outputs": [
    {
     "ename": "ModuleNotFoundError",
     "evalue": "No module named 'openpyxl'",
     "output_type": "error",
     "traceback": [
      "\u001b[0;31m---------------------------------------------------------------------------\u001b[0m",
      "\u001b[0;31mModuleNotFoundError\u001b[0m                       Traceback (most recent call last)",
      "\u001b[0;32m<ipython-input-1-fb759e091937>\u001b[0m in \u001b[0;36m<module>\u001b[0;34m\u001b[0m\n\u001b[1;32m      1\u001b[0m \u001b[0;32mimport\u001b[0m \u001b[0mxml\u001b[0m\u001b[0;34m.\u001b[0m\u001b[0metree\u001b[0m\u001b[0;34m.\u001b[0m\u001b[0mElementTree\u001b[0m \u001b[0;32mas\u001b[0m \u001b[0mET\u001b[0m\u001b[0;34m\u001b[0m\u001b[0;34m\u001b[0m\u001b[0m\n\u001b[1;32m      2\u001b[0m \u001b[0;32mimport\u001b[0m \u001b[0mpandas\u001b[0m \u001b[0;32mas\u001b[0m \u001b[0mpd\u001b[0m\u001b[0;34m\u001b[0m\u001b[0;34m\u001b[0m\u001b[0m\n\u001b[0;32m----> 3\u001b[0;31m \u001b[0;32mimport\u001b[0m \u001b[0mopenpyxl\u001b[0m\u001b[0;34m\u001b[0m\u001b[0;34m\u001b[0m\u001b[0m\n\u001b[0m\u001b[1;32m      4\u001b[0m \u001b[0;34m\u001b[0m\u001b[0m\n\u001b[1;32m      5\u001b[0m \u001b[0mtree\u001b[0m \u001b[0;34m=\u001b[0m \u001b[0mET\u001b[0m\u001b[0;34m.\u001b[0m\u001b[0mparse\u001b[0m\u001b[0;34m(\u001b[0m\u001b[0;34m'data/Thailand_Dives.ssrf'\u001b[0m\u001b[0;34m)\u001b[0m\u001b[0;34m\u001b[0m\u001b[0;34m\u001b[0m\u001b[0m\n",
      "\u001b[0;31mModuleNotFoundError\u001b[0m: No module named 'openpyxl'"
     ]
    }
   ],
   "source": [
    "import xml.etree.ElementTree as ET\n",
    "import pandas as pd\n",
    "import openpyxl\n",
    "\n",
    "tree = ET.parse('data/Thailand_Dives.ssrf')\n",
    "root = tree.getroot()"
   ]
  },
  {
   "cell_type": "code",
   "execution_count": null,
   "metadata": {},
   "outputs": [],
   "source": [
    "# Create list of all dive sites\n",
    "sites = [child.attrib for child in root[1]]\n",
    "sites"
   ]
  },
  {
   "cell_type": "code",
   "execution_count": null,
   "metadata": {},
   "outputs": [],
   "source": [
    "# Function to \n",
    "def insertKeyValues(dictionary):\n",
    "    d = {}\n",
    "    \n",
    "    # Keys to not include\n",
    "    delete = ['rating','visibility','size','workpressure','description','model','last-manual-time','tags','depth']\n",
    "    \n",
    "    # Make sure correct values are stored\n",
    "    for k, v in dictionary:\n",
    "        if k not in delete:\n",
    "            d[replaceKey(k)] = v\n",
    "    \n",
    "    return d\n",
    "\n",
    "# Function to replace the key with the wanted key\n",
    "def replaceKey(k):\n",
    "    # All keys that need their name replaced\n",
    "    keyChange = {\n",
    "        'start':'start_pressure',\n",
    "        'end':'end_pressure',\n",
    "        'air': 'air_temp',\n",
    "        'water': 'water_temp',\n",
    "        'divesiteid':'uuid'\n",
    "    }\n",
    "    \n",
    "    if k in keyChange.keys():\n",
    "        return keyChange[k]\n",
    "    else:\n",
    "        return k\n",
    "    "
   ]
  },
  {
   "cell_type": "code",
   "execution_count": null,
   "metadata": {},
   "outputs": [],
   "source": [
    "dives = []\n",
    "\n",
    "# Get all site info\n",
    "for dive in root[2]:\n",
    "    # Create dictionary for the dive\n",
    "    details = {}\n",
    "    \n",
    "    # Save keys for the attributes of the dive element itself\n",
    "    details.update(insertKeyValues(dive.attrib.items()))\n",
    "        \n",
    "    # Subelement breakdown\n",
    "    for d in dive:\n",
    "    \n",
    "        # Save information based on where it's stored in tree\n",
    "        if d.tag in ['divemaster','buddy','notes','suit']:\n",
    "            details[d.tag] = d.text\n",
    "            \n",
    "        else:\n",
    "            # Save keys for subelements\n",
    "            details.update(insertKeyValues(d.attrib.items()))\n",
    "            \n",
    "            # Save subelement child for Depth\n",
    "            if d.tag == 'divecomputer':\n",
    "                details['max_depth'] = d[0].attrib['max']\n",
    "    \n",
    "    # Appened details to list\n",
    "    dives.append(details)"
   ]
  },
  {
   "cell_type": "code",
   "execution_count": null,
   "metadata": {},
   "outputs": [],
   "source": [
    "dives"
   ]
  },
  {
   "cell_type": "code",
   "execution_count": null,
   "metadata": {},
   "outputs": [],
   "source": [
    "# Create DF's from dictionaries\n",
    "dfDive = pd.DataFrame(dives)\n",
    "dfDive['number'] = pd.to_numeric(dfDive[\"number\"])\n",
    "\n",
    "dfSite = pd.DataFrame(sites)\n",
    "dfSite.columns = ['uuid', 'site', 'gps'] #Rename columns"
   ]
  },
  {
   "cell_type": "code",
   "execution_count": null,
   "metadata": {},
   "outputs": [],
   "source": [
    "dfDive.head()"
   ]
  },
  {
   "cell_type": "code",
   "execution_count": null,
   "metadata": {},
   "outputs": [],
   "source": [
    "dfSite.head()"
   ]
  },
  {
   "cell_type": "code",
   "execution_count": null,
   "metadata": {},
   "outputs": [],
   "source": [
    "# Take in duration column and make it into an int \n",
    "def createMinutes(series, splitV):\n",
    "    ls = []\n",
    "    \n",
    "    for i in dfMerged['duration']:\n",
    "        sp = i.split(splitV) #split string at based on determined string\n",
    "        ls.append(int(sp[0])) #save first index as int\n",
    "    \n",
    "    return ls"
   ]
  },
  {
   "cell_type": "code",
   "execution_count": null,
   "metadata": {},
   "outputs": [],
   "source": [
    "# Merge DFs and sort by dive number\n",
    "dfMerged = pd.merge(dfDive, dfSite, on='uuid', how='outer')\n",
    "dfMerged = dfMerged.sort_values(by=['number'])\n",
    "dfMerged = dfMerged.reset_index(drop=True)\n",
    "\n",
    "# Make duration int\n",
    "dfMerged['duration_min'] = createMinutes(dfMerged['duration'],':')\n",
    "\n",
    "# Drop UUID column\n",
    "dfMerged = dfMerged.drop(['uuid'], axis=1)\n",
    "dfMerged = dfMerged.drop(['duration'], axis=1)\n",
    "\n",
    "# Reorder columns\n",
    "dfMerged = dfMerged[['number', 'date', 'time', 'site', 'gps', 'duration_min',\n",
    "         'max_depth', 'divemaster', 'buddy', 'suit', 'weight', 'start_pressure',\n",
    "         'end_pressure', 'air_temp', 'water_temp', 'notes']]\n"
   ]
  },
  {
   "cell_type": "code",
   "execution_count": null,
   "metadata": {},
   "outputs": [],
   "source": [
    "dfMerged.head()"
   ]
  },
  {
   "cell_type": "code",
   "execution_count": null,
   "metadata": {},
   "outputs": [],
   "source": [
    "dfSelected = dfMerged.loc[dfMerged['duration_min'] > 5]\n",
    "dfSelected.head()"
   ]
  },
  {
   "cell_type": "code",
   "execution_count": null,
   "metadata": {},
   "outputs": [],
   "source": [
    "# Function to return dictionary with all wildlife in it\n",
    "def wildlifeDict (listOfStrings):\n",
    "    cleaned = []\n",
    "    \n",
    "    # Strip trailing spaces\n",
    "    for l in listOfStrings:\n",
    "        cleaned.append(l.rstrip())\n",
    "        \n",
    "    # Save indexes for fish and coral so we can compare which came first\n",
    "    if 'Fish:' in cleaned:\n",
    "        fish = cleaned.index('Fish:')\n",
    "    else: fish = 0\n",
    "    if 'Coral:' in cleaned:\n",
    "        coral = cleaned.index('Coral:')\n",
    "    else: coral = 0\n",
    "    \n",
    "    # See which value is higher and save all subsequent lines as a string\n",
    "    if fish>0 and coral > fish:\n",
    "        return wildlifeString(cleaned,fish,coral)\n",
    "    elif coral>0 and fish > coral:\n",
    "        return wildlifeString(cleaned,coral,fish)\n",
    "    else: # if neither exists\n",
    "        return {}\n",
    "\n",
    "# Function to breakdown wildlife strings and separate them into fish or coral\n",
    "def wildlifeString (listOfStrings, firsti, secondi):\n",
    "    d = {}\n",
    "    ls1 = []\n",
    "    ls2 = []\n",
    "    \n",
    "    # What to do with the first value (which is the larger one)\n",
    "    for i in range(firsti+1, secondi-1):\n",
    "        # If there is a break, stop loop\n",
    "        if listOfStrings[i] == '':\n",
    "            break\n",
    "\n",
    "        # add items to list\n",
    "        else:\n",
    "            ls1.append(listOfStrings[i])\n",
    "        \n",
    "        # add list to dict as joint string\n",
    "        d[listOfStrings[firsti]] = ', '.join(ls1)\n",
    "\n",
    "\n",
    "    # What to do with the lower value\n",
    "    for i in range(secondi+1, len(listOfStrings)):\n",
    "\n",
    "        # If there is a break, stop loop\n",
    "        if listOfStrings[i] == '':\n",
    "            break\n",
    "\n",
    "        # add items to list\n",
    "        else:\n",
    "            ls2.append(listOfStrings[i])\n",
    "        \n",
    "        # add list to dict as joint string\n",
    "        d[listOfStrings[secondi]] = ', '.join(ls2)\n",
    "    \n",
    "    # Return dictionary\n",
    "    return(d)"
   ]
  },
  {
   "cell_type": "code",
   "execution_count": null,
   "metadata": {},
   "outputs": [],
   "source": [
    "allNotes = []\n",
    "\n",
    "for notes in dfSelected['notes']:   \n",
    "\n",
    "    d = {}\n",
    "    \n",
    "    # split string into \n",
    "    notes = notes.split('\\n')\n",
    "    \n",
    "    # First line is always shop information\n",
    "    d['shop'] = notes[0]\n",
    "    \n",
    "    # Find viz and current information in list\n",
    "    i = 1\n",
    "    while i < len(notes):\n",
    "        if 'Current: ' in notes[i]:\n",
    "            d['current'] = notes[i].split('Current: ')[1]\n",
    "\n",
    "        if 'Viz: ' in notes[i]:\n",
    "            d['viz'] = notes[i].split('Viz: ')[1]\n",
    "\n",
    "        i += 1\n",
    "    \n",
    "    # Get all wildlife information\n",
    "    d.update(wildlifeDict(notes))\n",
    "    \n",
    "    # Append to all notes list\n",
    "    allNotes.append(d)"
   ]
  },
  {
   "cell_type": "code",
   "execution_count": null,
   "metadata": {},
   "outputs": [],
   "source": [
    "allNotes"
   ]
  },
  {
   "cell_type": "code",
   "execution_count": null,
   "metadata": {},
   "outputs": [],
   "source": [
    "dfNote = pd.DataFrame(allNotes)\n",
    "dfNote.columns = ['shop', 'current', 'viz', 'fish', 'coral']\n",
    "dfNote.head()"
   ]
  },
  {
   "cell_type": "code",
   "execution_count": null,
   "metadata": {},
   "outputs": [],
   "source": [
    "df = pd.merge(dfSelected, dfNote, left_index=True, right_index=True)\n",
    "df = df.drop(['notes'], axis=1)\n",
    "df = df[['number', 'date', 'time', \n",
    "       'shop', 'divemaster', 'buddy', 'suit', 'weight', 'site', \n",
    "       'gps', 'duration_min', 'max_depth', 'start_pressure',\n",
    "       'end_pressure', 'air_temp', 'water_temp', 'current', 'viz',\n",
    "       'fish', 'coral']]\n",
    "df"
   ]
  },
  {
   "cell_type": "code",
   "execution_count": null,
   "metadata": {},
   "outputs": [],
   "source": [
    "df.to_excel('dives_thailand.xlsx', sheet_name='dives')"
   ]
  },
  {
   "cell_type": "code",
   "execution_count": null,
   "metadata": {},
   "outputs": [],
   "source": []
  }
 ],
 "metadata": {
  "kernelspec": {
   "display_name": "Python 3",
   "language": "python",
   "name": "python3"
  },
  "language_info": {
   "codemirror_mode": {
    "name": "ipython",
    "version": 3
   },
   "file_extension": ".py",
   "mimetype": "text/x-python",
   "name": "python",
   "nbconvert_exporter": "python",
   "pygments_lexer": "ipython3",
   "version": "3.7.7"
  }
 },
 "nbformat": 4,
 "nbformat_minor": 4
}
